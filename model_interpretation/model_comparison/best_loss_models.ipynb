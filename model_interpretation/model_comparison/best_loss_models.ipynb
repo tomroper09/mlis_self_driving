{
 "cells": [
  {
   "cell_type": "code",
   "execution_count": 6,
   "metadata": {},
   "outputs": [],
   "source": [
    "import pandas as pd\n",
    "import numpy as np"
   ]
  },
  {
   "cell_type": "code",
   "execution_count": 4,
   "metadata": {},
   "outputs": [],
   "source": [
    "live_test = pd.read_csv('DenseNet121/Val Loss DenseNet121.csv')\n",
    "kaggle = pd.read_csv('DenseNet169/Val Loss DenseNet169.csv')"
   ]
  },
  {
   "cell_type": "code",
   "execution_count": 7,
   "metadata": {},
   "outputs": [
    {
     "name": "stdout",
     "output_type": "stream",
     "text": [
      "Best epoch: 50\n",
      "Best validation loss: 0.0129995355382561\n"
     ]
    }
   ],
   "source": [
    "# Find the index of the minimum validation loss\n",
    "best_epoch = np.argmin(kaggle['val_loss']) + 1  # Adding 1 because epochs are 1-indexed\n",
    "\n",
    "# Find the minimum validation loss\n",
    "best_val_loss = np.min(kaggle['val_loss'])\n",
    "\n",
    "print(f\"Best epoch: {best_epoch}\")\n",
    "print(f\"Best validation loss: {best_val_loss}\")"
   ]
  }
 ],
 "metadata": {
  "kernelspec": {
   "display_name": "tomenv",
   "language": "python",
   "name": "python3"
  },
  "language_info": {
   "codemirror_mode": {
    "name": "ipython",
    "version": 3
   },
   "file_extension": ".py",
   "mimetype": "text/x-python",
   "name": "python",
   "nbconvert_exporter": "python",
   "pygments_lexer": "ipython3",
   "version": "3.8.18"
  }
 },
 "nbformat": 4,
 "nbformat_minor": 2
}
